{
 "cells": [
  {
   "cell_type": "markdown",
   "metadata": {},
   "source": [
    "# Nonlinear Fitting: Handling Errors in Both x and y\n",
    "\n",
    "This notebook shows you how to fit data when you have uncertainties in both your x and y measurements.\n",
    "\n",
    "## The Problem\n",
    "\n",
    "Typical fitting routines like `scipy.optimize.curve_fit` allow you to specify errors only on the y-axis (dependent) variables. However, in many experiments, you have measurement uncertainties in both x and y.\n",
    "\n",
    "One routine that allows you to handle errors on both x-axis and y-axis variables is **Orthogonal Distance Regression (ODR)** from `scipy.odr`.\n",
    "\n",
    "This notebook compares both approaches so you can see the difference."
   ]
  },
  {
   "cell_type": "markdown",
   "metadata": {},
   "source": [
    "## Setup"
   ]
  },
  {
   "cell_type": "code",
   "execution_count": null,
   "metadata": {},
   "outputs": [],
   "source": [
    "import numpy as np\n",
    "import matplotlib.pyplot as plt\n",
    "from scipy.optimize import curve_fit\n",
    "from scipy import odr"
   ]
  },
  {
   "cell_type": "markdown",
   "metadata": {},
   "source": [
    "## Step 1: Enter Your Data\n",
    "\n",
    "Replace these arrays with your own experimental data:"
   ]
  },
  {
   "cell_type": "code",
   "execution_count": null,
   "metadata": {},
   "outputs": [],
   "source": [
    "# Your measurements\n",
    "x_data = np.array([1.0, 2.0, 3.0, 4.0, 5.0, 6.0, 7.0, 8.0])\n",
    "y_data = np.array([2.1, 6.8, 12.3, 17.5, 23.2, 28.6, 33.9, 39.8])\n",
    "\n",
    "# Uncertainties (errors) on your measurements\n",
    "# Note: x errors are significant compared to y errors\n",
    "x_err = np.array([0.5, 0.5, 0.5, 0.5, 0.5, 0.5, 0.5, 0.5])\n",
    "y_err = np.array([0.3, 0.3, 0.3, 0.3, 0.3, 0.3, 0.3, 0.3])"
   ]
  },
  {
   "cell_type": "markdown",
   "metadata": {},
   "source": [
    "## Step 2: Define Your Fit Function\n",
    "\n",
    "Replace this with whatever function you expect to fit your data. Here we use a straight line as an example:\n",
    "\n",
    "**Common alternatives:**\n",
    "- Exponential: `def fit_func(x, a, b): return a * np.exp(b * x)`\n",
    "- Power law: `def fit_func(x, a, b): return a * x**b`\n",
    "- Quadratic: `def fit_func(x, a, b, c): return a + b*x + c*x**2`"
   ]
  },
  {
   "cell_type": "code",
   "execution_count": null,
   "metadata": {},
   "outputs": [],
   "source": [
    "# Define your fit function: y = a + b*x\n",
    "def fit_func(x, a, b):\n",
    "    return a + b * x\n",
    "\n",
    "# Initial guesses for the parameters [a, b]\n",
    "initial_guess = [1.0, 2.0]"
   ]
  },
  {
   "cell_type": "markdown",
   "metadata": {},
   "source": [
    "## Method 1: Standard Fitting with `curve_fit` (y errors only)\n",
    "\n",
    "This is the standard approach that only considers uncertainties in y:"
   ]
  },
  {
   "cell_type": "code",
   "execution_count": null,
   "metadata": {},
   "outputs": [],
   "source": [
    "popt, pcov = curve_fit(fit_func, x_data, y_data, \n",
    "                       p0=initial_guess, \n",
    "                       sigma=y_err, \n",
    "                       absolute_sigma=True)\n",
    "\n",
    "# Extract parameter uncertainties\n",
    "perr = np.sqrt(np.diag(pcov))\n",
    "\n",
    "print(\"CURVE_FIT RESULTS (y errors only)\")\n",
    "print(\"=\" * 50)\n",
    "print(\"Parameter 0 (a):\", popt[0], \"±\", perr[0])\n",
    "print(\"Parameter 1 (b):\", popt[1], \"±\", perr[1])"
   ]
  },
  {
   "cell_type": "markdown",
   "metadata": {},
   "source": [
    "## Method 2: ODR Fitting (x and y errors)\n",
    "\n",
    "ODR accounts for uncertainties in both x and y:"
   ]
  },
  {
   "cell_type": "code",
   "execution_count": null,
   "metadata": {},
   "outputs": [],
   "source": [
    "# ODR requires the function with parameters first, then x\n",
    "def odr_func(params, x):\n",
    "    a = params[0]\n",
    "    b = params[1]\n",
    "    return a + b * x\n",
    "\n",
    "# Set up the ODR fit\n",
    "model = odr.Model(odr_func)\n",
    "data = odr.RealData(x_data, y_data, sx=x_err, sy=y_err)\n",
    "odr_obj = odr.ODR(data, model, beta0=initial_guess)\n",
    "output = odr_obj.run()\n",
    "\n",
    "print(\"\\nODR RESULTS (x and y errors)\")\n",
    "print(\"=\" * 50)\n",
    "print(\"Parameter 0 (a):\", output.beta[0], \"±\", output.sd_beta[0])\n",
    "print(\"Parameter 1 (b):\", output.beta[1], \"±\", output.sd_beta[1])"
   ]
  },
  {
   "cell_type": "markdown",
   "metadata": {},
   "source": [
    "## Visualise the Fits\n",
    "\n",
    "Compare how well each method fits your data:"
   ]
  },
  {
   "cell_type": "code",
   "execution_count": null,
   "metadata": {},
   "outputs": [],
   "source": [
    "# Generate smooth curve for plotting\n",
    "x_smooth = np.linspace(x_data.min(), x_data.max(), 100)\n",
    "y_fit_curve = fit_func(x_smooth, popt[0], popt[1])\n",
    "y_fit_odr = fit_func(x_smooth, output.beta[0], output.beta[1])\n",
    "\n",
    "fig, (ax1, ax2) = plt.subplots(1, 2, figsize=(12, 4))\n",
    "\n",
    "# Plot 1: curve_fit result\n",
    "ax1.errorbar(x_data, y_data, xerr=x_err, yerr=y_err, \n",
    "             fmt='o', label='Data', capsize=3)\n",
    "ax1.plot(x_smooth, y_fit_curve, 'r-', label='curve_fit', linewidth=2)\n",
    "ax1.set_xlabel('x')\n",
    "ax1.set_ylabel('y')\n",
    "ax1.set_title('Standard Fit (y errors only)')\n",
    "ax1.legend()\n",
    "ax1.grid(True, alpha=0.3)\n",
    "\n",
    "# Plot 2: ODR result\n",
    "ax2.errorbar(x_data, y_data, xerr=x_err, yerr=y_err, \n",
    "             fmt='o', label='Data', capsize=3)\n",
    "ax2.plot(x_smooth, y_fit_odr, 'b-', label='ODR fit', linewidth=2)\n",
    "ax2.set_xlabel('x')\n",
    "ax2.set_ylabel('y')\n",
    "ax2.set_title('ODR Fit (x and y errors)')\n",
    "ax2.legend()\n",
    "ax2.grid(True, alpha=0.3)\n",
    "\n",
    "plt.tight_layout()\n",
    "plt.show()"
   ]
  },
  {
   "cell_type": "markdown",
   "metadata": {},
   "source": [
    "## Check the Residuals\n",
    "\n",
    "Residuals show how far each data point is from the fitted curve. Good fits have residuals randomly scattered around zero:"
   ]
  },
  {
   "cell_type": "code",
   "execution_count": null,
   "metadata": {},
   "outputs": [],
   "source": [
    "residuals_curve = y_data - fit_func(x_data, popt[0], popt[1])\n",
    "residuals_odr = y_data - fit_func(x_data, output.beta[0], output.beta[1])\n",
    "\n",
    "fig, (ax1, ax2) = plt.subplots(1, 2, figsize=(12, 4))\n",
    "\n",
    "ax1.errorbar(x_data, residuals_curve, yerr=y_err, fmt='o', capsize=3)\n",
    "ax1.axhline(0, color='r', linestyle='--', alpha=0.5)\n",
    "ax1.set_xlabel('x')\n",
    "ax1.set_ylabel('Residuals')\n",
    "ax1.set_title('curve_fit Residuals')\n",
    "ax1.grid(True, alpha=0.3)\n",
    "\n",
    "ax2.errorbar(x_data, residuals_odr, yerr=y_err, fmt='o', capsize=3)\n",
    "ax2.axhline(0, color='b', linestyle='--', alpha=0.5)\n",
    "ax2.set_xlabel('x')\n",
    "ax2.set_ylabel('Residuals')\n",
    "ax2.set_title('ODR Residuals')\n",
    "ax2.grid(True, alpha=0.3)\n",
    "\n",
    "plt.tight_layout()\n",
    "plt.show()"
   ]
  },
  {
   "cell_type": "markdown",
   "metadata": {},
   "source": [
    "## When Does It Matter?\n",
    "\n",
    "The difference between `curve_fit` and ODR becomes significant when:\n",
    "- Your x errors are comparable to or larger than your y errors\n",
    "- Your fitted line/curve has a steep slope\n",
    "- You need accurate parameter uncertainties for further analysis\n",
    "\n",
    "For data with negligible x errors, both methods give similar results."
   ]
  }
 ],
 "metadata": {
  "kernelspec": {
   "display_name": "Python 3",
   "language": "python",
   "name": "python3"
  },
  "language_info": {
   "codemirror_mode": {
    "name": "ipython",
    "version": 3
   },
   "file_extension": ".py",
   "mimetype": "text/x-python",
   "name": "python",
   "nbconvert_exporter": "python",
   "pygments_lexer": "ipython3",
   "version": "3.8.0"
  }
 },
 "nbformat": 4,
 "nbformat_minor": 4
}