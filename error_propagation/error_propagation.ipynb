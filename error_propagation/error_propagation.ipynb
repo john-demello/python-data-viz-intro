{
 "cells": [
  {
   "cell_type": "markdown",
   "metadata": {},
   "source": [
    "# Error Propagation in Python\n",
    "## A Jupyter Notebook for Error Analysis\n",
    "\n",
    "This notebook demonstrates error propagation using numerical methods.\n",
    "We'll calculate how uncertainties in measurements combine to affect \n",
    "the final result of any calculation.\n",
    "\n",
    "**Key concepts:**\n",
    "- Total differential approximation\n",
    "- Worst-case vs. statistical error combination\n",
    "- Numerical derivatives using finite differences"
   ]
  },
  {
   "cell_type": "markdown",
   "metadata": {},
   "source": [
    "## Theory\n",
    "\n",
    "For a function f(x,y,z,...), the total differential gives us:\n",
    "\n",
    "**δf = (∂f/∂x)δx + (∂f/∂y)δy + (∂f/∂z)δz + ...**\n",
    "\n",
    "We combine individual error contributions in two ways:\n",
    "1. **Worst-case error**: Σ|∂f/∂xi|δxi (assumes all errors align unfavorably)\n",
    "2. **RSS error**: √(Σ(∂f/∂xi)²(δxi)²) (assumes independent random errors)\n",
    "\n",
    "The RSS method is more realistic for most scientific measurements."
   ]
  },
  {
   "cell_type": "markdown",
   "metadata": {},
   "source": [
    "## Code Implementation"
   ]
  },
  {
   "cell_type": "code",
   "execution_count": null,
   "metadata": {},
   "outputs": [],
   "source": [
    "import numpy as np\n",
    "from math import log10, floor\n",
    "import matplotlib.pyplot as plt\n",
    "\n",
    "def round_to_sig_figs(x, sig_figs):\n",
    "    \"\"\"Round a number to specified significant figures\"\"\"\n",
    "    if x == 0:\n",
    "        return 0\n",
    "    return round(x, -int(floor(log10(abs(x)))) + (sig_figs - 1))\n",
    "\n",
    "def get_errors(Q, dQ, epsQ, fcn):\n",
    "    \"\"\"\n",
    "    Calculate error propagation using finite differences\n",
    "    \n",
    "    Parameters:\n",
    "    -----------\n",
    "    Q : numpy.ndarray\n",
    "        Variables [x, y, z, ...]\n",
    "    dQ : numpy.ndarray  \n",
    "        Uncertainties in each variable [δx, δy, δz, ...]\n",
    "    epsQ : numpy.ndarray\n",
    "        Step sizes for finite difference approximation\n",
    "    fcn : function\n",
    "        Function to analyze f(Q)\n",
    "    \n",
    "    Returns:\n",
    "    --------\n",
    "    errors : list\n",
    "        [worst_case_error, rss_error]\n",
    "    \"\"\"\n",
    "    \n",
    "    # Input validation\n",
    "    if np.any(dQ <= 0):\n",
    "        raise ValueError('Uncertainties must be positive')\n",
    "    if len(Q) != len(dQ):\n",
    "        raise ValueError('Q and dQ must have same length')\n",
    "    if len(Q) != len(epsQ):\n",
    "        raise ValueError('Q and epsQ must have same length')\n",
    "    \n",
    "    # Calculate partial derivatives using central differences\n",
    "    n = len(Q)\n",
    "    partial_derivatives = np.zeros(n)\n",
    "    \n",
    "    for i in range(n):\n",
    "        h = epsQ[i]\n",
    "        # Perturb ith variable\n",
    "        Q_hi = Q.copy()\n",
    "        Q_hi[i] += h\n",
    "        Q_lo = Q.copy() \n",
    "        Q_lo[i] -= h\n",
    "        # Central difference formula\n",
    "        partial_derivatives[i] = (fcn(Q_hi) - fcn(Q_lo)) / (2*h)\n",
    "    \n",
    "    # Calculate individual error contributions\n",
    "    error_contributions = partial_derivatives * dQ\n",
    "    \n",
    "    # Combine errors\n",
    "    worst_case_error = np.sum(np.abs(error_contributions))\n",
    "    rss_error = np.linalg.norm(error_contributions)\n",
    "    \n",
    "    return [worst_case_error, rss_error], partial_derivatives, error_contributions"
   ]
  },
  {
   "cell_type": "markdown",
   "metadata": {},
   "source": [
    "## Example 1: Density Calculation (Small Errors)\n",
    "\n",
    "Let's calculate the density ρ = m/V where:\n",
    "- mass m = 2.5 ± 0.02 g (0.8% relative error)\n",
    "- volume V = 0.25 ± 0.002 L (0.8% relative error)\n",
    "\n",
    "**First, let's calculate the worst-case error bounds by manual calculation**"
   ]
  },
  {
   "cell_type": "code",
   "execution_count": null,
   "metadata": {},
   "outputs": [
    {
     "name": "stdout",
     "output_type": "stream",
     "text": [
      "=== MANUAL CALCULATION OF ACTUAL BOUNDS ===\n",
      "Variables: m = 2.5 ± 0.02 g, V = 0.25 ± 0.002 L\n",
      "Function: ρ = m/V\n",
      "\n",
      "Maximum density: ρ_max = 2.52/0.248 = 10.1613 g/L\n",
      "Minimum density: ρ_min = 2.48/0.252 = 9.8413 g/L\n",
      "Nominal density: ρ_nom = 2.5/0.25 = 10.0000 g/L\n",
      "\n",
      "ACTUAL ERROR BOUNDS (from direct calculation):\n",
      "Upper error: +0.1600 g/L\n",
      "Lower error: -0.1600 g/L\n",
      "Maximum error: ±0.1600 g/L\n",
      "\n",
      "📊 Best estimate ± worst-case error : 10.0000 ± 0.1600 g/L\n"
     ]
    }
   ],
   "source": [
    "# Define variables\n",
    "m = 2.5     # mass in g\n",
    "dm = 0.02   # uncertainty in g\n",
    "V = 0.25    # volume in L\n",
    "dV = 0.002  # uncertainty in L\n",
    "\n",
    "# Define the density function\n",
    "density = lambda Q: Q[0] / Q[1]  # ρ = m/V\n",
    "\n",
    "print(\"=== MANUAL CALCULATION OF ACTUAL BOUNDS ===\")\n",
    "print(f\"Variables: m = {m} ± {dm} g, V = {V} ± {dV} L\")\n",
    "print(f\"Function: ρ = m/V\")\n",
    "print()\n",
    "\n",
    "# Calculate all possible combinations\n",
    "# For ρ = m/V, maximum occurs when m is max and V is min\n",
    "rho_max = (m + dm) / (V - dV)  # Max density\n",
    "rho_min = (m - dm) / (V + dV)  # Min density\n",
    "rho_nominal = m / V            # Nominal density\n",
    "\n",
    "print(f\"Maximum density: ρ_max = {m + dm}/{V - dV} = {rho_max:.4f} g/L\")\n",
    "print(f\"Minimum density: ρ_min = {m - dm}/{V + dV} = {rho_min:.4f} g/L\")\n",
    "print(f\"Nominal density: ρ_nom = {m}/{V} = {rho_nominal:.4f} g/L\")\n",
    "print()\n",
    "\n",
    "# Calculate actual error bounds\n",
    "actual_upper_error = round_to_sig_figs(rho_max - rho_nominal,2)\n",
    "actual_lower_error = round_to_sig_figs(rho_nominal - rho_min,2);\n",
    "actual_max_error = max(actual_upper_error, actual_lower_error)\n",
    "actual_max_error = round_to_sig_figs(actual_max_error , 2)\n",
    "\n",
    "print(f\"ACTUAL ERROR BOUNDS (from direct calculation):\")\n",
    "print(f\"Upper error: +{actual_upper_error:.4f} g/L\")\n",
    "print(f\"Lower error: -{actual_lower_error:.4f} g/L\")\n",
    "print(f\"Maximum error: ±{actual_max_error:.4f} g/L\")\n",
    "print(f\"\\n📊 Best estimate ± worst-case error : {rho_nominal:.4f} ± {actual_max_error:.4f} g/L\")"
   ]
  },
  {
   "cell_type": "markdown",
   "metadata": {},
   "source": [
    "## Now Let's Try the Total Differential Method\n",
    "\n",
    "The total differential approach uses calculus to estimate the error bounds. By using the finite difference approximation to estimate the  partial derivatives in the total differential, the function \"get_errors()\" provides a simple and versatile tool for calculating errors without needing to determine any partial derivatives analytically. In short, everything works automatically. The output of get_errors() gives both the worst-case estimate and the root sum of squares (RSS) estimate, which is based on the assumption of independent random errors. **We encourage you to use this code for any error estimates you need to carry out in future lab work.** \n",
    "\n",
    "Bear in mind, however, that the total differential approach is based on the assumption that errors are small. If your errors are too large, it will give inaccurate uncertainty estimates. The RSS estimate is also based on the assumption that errors are uncorrelated, but this will typically be true for the situations you encounter in the lab.\n",
    "\n",
    "Let's see how well the result of the total differential method matches the direct calculation above."
   ]
  },
  {
   "cell_type": "code",
   "execution_count": 3,
   "metadata": {},
   "outputs": [
    {
     "name": "stdout",
     "output_type": "stream",
     "text": [
      "=== TOTAL DIFFERENTIAL PREDICTION ===\n",
      "Worst-case error: ±0.16 g/L\n",
      "RSS error: ±0.11 g/L\n",
      "\n",
      "Calculation details:\n",
      "∂ρ/∂m = 4.000\n",
      "∂ρ/∂V = -40.000\n",
      "Mass contribution: ±0.0800\n",
      "Volume contribution: ±0.0800\n"
     ]
    }
   ],
   "source": [
    "# Set up arrays for total differential calculation\n",
    "Q = np.array([m, V])\n",
    "dQ = np.array([dm, dV])\n",
    "epsQ = 1e-6 * np.abs(Q) + 1e-12  # Step sizes for numerical derivatives\n",
    "\n",
    "# Calculate errors using total differential\n",
    "errors, derivatives, contributions = get_errors(Q, dQ, epsQ, density)\n",
    "errors_rounded = [round_to_sig_figs(err, 2) for err in errors]\n",
    "\n",
    "# Display total differential results\n",
    "print(\"=== TOTAL DIFFERENTIAL PREDICTION ===\")\n",
    "print(f\"Worst-case error: ±{errors_rounded[0]} g/L\")\n",
    "print(f\"RSS error: ±{errors_rounded[1]} g/L\")\n",
    "print()\n",
    "\n",
    "# Show the calculation details\n",
    "print(\"Calculation details:\")\n",
    "print(f\"∂ρ/∂m = {derivatives[0]:.3f}\")\n",
    "print(f\"∂ρ/∂V = {derivatives[1]:.3f}\")\n",
    "print(f\"Mass contribution: ±{abs(contributions[0]):.4f}\")\n",
    "print(f\"Volume contribution: ±{abs(contributions[1]):.4f}\")"
   ]
  },
  {
   "cell_type": "markdown",
   "metadata": {},
   "source": [
    "## Comparison: Manual vs. Total Differential\n",
    "\n",
    "Let's compare the two methods to see how well the linear approximation works for small errors:"
   ]
  },
  {
   "cell_type": "code",
   "execution_count": null,
   "metadata": {},
   "outputs": [
    {
     "name": "stdout",
     "output_type": "stream",
     "text": [
      "=== COMPARISON ====\n",
      "Manual calculation (2 sig figs):      ±0.1600 g/L\n",
      "Total differential (2 sig figs):      ±0.1600 g/L\n",
      "\n",
      "Agreement: 100.0% (Error: 0.0%)\n",
      "✅ Excellent agreement! Linear approximation is accurate.\n",
      "\n",
      "🎯 For small errors of a few percent, the total differential method typically works very well.\n"
     ]
    }
   ],
   "source": [
    "print(\"=== COMPARISON ====\")\n",
    "print(f\"Manual calculation (2 sig figs):      ±{actual_max_error:.4f} g/L\")\n",
    "print(f\"Total differential (2 sig figs):      ±{errors[0]:.4f} g/L\")\n",
    "print()\n",
    "\n",
    "# Calculate agreement\n",
    "agreement = (errors[0] / actual_max_error) * 100\n",
    "error_percent = abs(agreement - 100)\n",
    "\n",
    "print(f\"Agreement: {agreement:.1f}% (Error: {error_percent:.1f}%)\")\n",
    "\n",
    "if error_percent < 2:\n",
    "    print(\"✅ Excellent agreement! Linear approximation is accurate.\")\n",
    "elif error_percent < 10:\n",
    "    print(\"✅ Good agreement. Linear approximation works well.\")\n",
    "elif error_percent < 25:\n",
    "    print(\"⚠️  Reasonable agreement. Linear approximation is acceptable.\")\n",
    "else:\n",
    "    print(\"❌ Poor agreement! Linear approximation breaks down.\")\n",
    "    \n",
    "print(f\"\\n🎯 For small errors of a few percent, the total differential method typically works very well.\")"
   ]
  },
  {
   "cell_type": "markdown",
   "metadata": {},
   "source": [
    "## Example with LARGE Errors: When Linear Approximation Fails\n",
    "\n",
    "Let's try the same density calculation but with **much larger uncertainties** (20% errors) to see when the total differential approach breaks down.\n",
    "\n",
    "**Again, let's start with direct calculation:**"
   ]
  },
  {
   "cell_type": "code",
   "execution_count": 27,
   "metadata": {},
   "outputs": [
    {
     "name": "stdout",
     "output_type": "stream",
     "text": [
      "=== MANUAL CALCULATION (LARGE ERRORS) ===\n",
      "Variables: m = 2.5 ± 0.5 g (20% error)\n",
      "           V = 0.25 ± 0.05 L (20% error)\n",
      "\n",
      "Maximum density: ρ_max = 3.0/0.2 = 15.000 g/L\n",
      "Minimum density: ρ_min = 2.0/0.3 = 6.667 g/L\n",
      "Nominal density: ρ_nom = 2.5/0.25 = 10.000 g/L\n",
      "\n",
      "ACTUAL ERROR BOUNDS (from direct calculation):\n",
      "Upper error: +5.000 g/L\n",
      "Lower error: -3.300 g/L\n",
      "Maximum error: ±5.000 g/L\n",
      "\n",
      "📊 Best estimate ± worst-case error : 10.000 ± 5.000 g/L\n"
     ]
    }
   ],
   "source": [
    "# Large error example - Manual calculation first\n",
    "m_large = 2.5     # mass in g\n",
    "dm_large = 0.5    # LARGE uncertainty: 20%\n",
    "V_large = 0.25    # volume in L\n",
    "dV_large = 0.05   # LARGE uncertainty: 20%\n",
    "\n",
    "print(\"=== MANUAL CALCULATION (LARGE ERRORS) ===\")\n",
    "print(f\"Variables: m = {m_large} ± {dm_large} g ({dm_large/m_large*100:.0f}% error)\")\n",
    "print(f\"           V = {V_large} ± {dV_large} L ({dV_large/V_large*100:.0f}% error)\")\n",
    "print()\n",
    "\n",
    "# Manual calculation\n",
    "rho_max_large = (m_large + dm_large) / (V_large - dV_large)\n",
    "rho_min_large = (m_large - dm_large) / (V_large + dV_large)\n",
    "rho_nom_large = m_large / V_large\n",
    "\n",
    "actual_upper_large = round_to_sig_figs(rho_max_large - rho_nom_large,2)\n",
    "actual_lower_large = round_to_sig_figs(rho_nom_large - rho_min_large,2)\n",
    "actual_max_large = round_to_sig_figs(max(actual_upper_large, actual_lower_large),2)\n",
    "\n",
    "print(f\"Maximum density: ρ_max = {m_large + dm_large}/{V_large - dV_large} = {rho_max_large:.3f} g/L\")\n",
    "print(f\"Minimum density: ρ_min = {m_large - dm_large}/{V_large + dV_large} = {rho_min_large:.3f} g/L\")\n",
    "print(f\"Nominal density: ρ_nom = {m_large}/{V_large} = {rho_nom_large:.3f} g/L\")\n",
    "print()\n",
    "\n",
    "print(f\"ACTUAL ERROR BOUNDS (from direct calculation):\")\n",
    "print(f\"Upper error: +{actual_upper_large:.3f} g/L\")\n",
    "print(f\"Lower error: -{actual_lower_large:.3f} g/L\")\n",
    "print(f\"Maximum error: ±{actual_max_large:.3f} g/L\")\n",
    "print(f\"\\n📊 Best estimate ± worst-case error : {rho_nom_large:.3f} ± {actual_max_large:.3f} g/L\")"
   ]
  },
  {
   "cell_type": "markdown",
   "metadata": {},
   "source": [
    "## Total Differential Prediction (Large Errors)\n",
    "\n",
    "Now let's see what the total differential method predicts for these large errors:"
   ]
  },
  {
   "cell_type": "code",
   "execution_count": 28,
   "metadata": {},
   "outputs": [
    {
     "name": "stdout",
     "output_type": "stream",
     "text": [
      "=== TOTAL DIFFERENTIAL PREDICTION (LARGE ERRORS) ===\n",
      "Worst-case error: ±4.000 g/L\n",
      "RSS error: ±2.828 g/L\n",
      "\n",
      "Calculation details:\n",
      "∂ρ/∂m = 4.000\n",
      "∂ρ/∂V = -40.000\n",
      "Mass contribution: ±2.000\n",
      "Volume contribution: ±2.000\n"
     ]
    }
   ],
   "source": [
    "# Total differential prediction for large errors\n",
    "Q_large = np.array([m_large, V_large])\n",
    "dQ_large = np.array([dm_large, dV_large])\n",
    "epsQ_large = 1e-6 * np.abs(Q_large) + 1e-12\n",
    "\n",
    "errors_large, derivatives_large, contributions_large = get_errors(Q_large, dQ_large, epsQ_large, density)\n",
    "\n",
    "print(\"=== TOTAL DIFFERENTIAL PREDICTION (LARGE ERRORS) ===\")\n",
    "print(f\"Worst-case error: ±{errors_large[0]:.3f} g/L\")\n",
    "print(f\"RSS error: ±{errors_large[1]:.3f} g/L\")\n",
    "print()\n",
    "\n",
    "print(\"Calculation details:\")\n",
    "print(f\"∂ρ/∂m = {derivatives_large[0]:.3f}\")\n",
    "print(f\"∂ρ/∂V = {derivatives_large[1]:.3f}\")\n",
    "print(f\"Mass contribution: ±{abs(contributions_large[0]):.3f}\")\n",
    "print(f\"Volume contribution: ±{abs(contributions_large[1]):.3f}\")"
   ]
  },
  {
   "cell_type": "markdown",
   "metadata": {},
   "source": [
    "## Comparison: Large Errors Show Approximation Breakdown"
   ]
  },
  {
   "cell_type": "code",
   "execution_count": 29,
   "metadata": {},
   "outputs": [
    {
     "name": "stdout",
     "output_type": "stream",
     "text": [
      "=== COMPARISON (LARGE ERRORS) ====\n",
      "Manual calculation:      ±5.000 g/L\n",
      "Total differential:      ±4.000 g/L\n",
      "\n",
      "Agreement: 80.0% (Error: 20.0%)\n",
      "\n",
      "❌ Poor agreement - linear approximation breaks down!\n",
      "   The total differential method is unreliable for large errors.\n",
      "   Always use direct calculation of worst-case errors when individual errors are > 10-15%.\n",
      "\n",
      "📈 Summary: As errors increase, the linear approximation becomes less accurate!\n"
     ]
    }
   ],
   "source": [
    "print(\"=== COMPARISON (LARGE ERRORS) ====\")\n",
    "print(f\"Manual calculation:      ±{actual_max_large:.3f} g/L\")\n",
    "print(f\"Total differential:      ±{errors_large[0]:.3f} g/L\")\n",
    "print()\n",
    "\n",
    "# Check agreement\n",
    "agreement_large = (errors_large[0] / actual_max_large) * 100\n",
    "error_percent_large = abs(agreement_large - 100)\n",
    "\n",
    "print(f\"Agreement: {agreement_large:.1f}% (Error: {error_percent_large:.1f}%)\")\n",
    "print()\n",
    "\n",
    "if error_percent_large < 5:\n",
    "    print(\"✅ Excellent agreement!\")\n",
    "elif error_percent_large < 15:\n",
    "    print(\"⚠️  Reasonable agreement\")\n",
    "else:\n",
    "    print(\"❌ Poor agreement - linear approximation breaks down!\")\n",
    "    print(\"   The total differential method is unreliable for large errors.\")\n",
    "    print(\"   Always use direct calculation of worst-case errors when individual errors are > 10-15%.\")\n",
    "\n",
    "print(f\"\\n📈 Summary: As errors increase, the linear approximation becomes less accurate!\")"
   ]
  },
  {
   "cell_type": "markdown",
   "metadata": {},
   "source": [
    "## Student Exercises\n",
    "\n",
    "**Now it's your turn!** For each exercise below:\n",
    "1. **Calculate bounds manually** by plugging max/min values into the function\n",
    "2. **Compare with the total differential prediction**  \n",
    "3. **Assess when the linear approximation works well**\n",
    "\n",
    "### Exercise 1: Power Calculation (Small Errors)\n",
    "Calculate electrical power P = V²/R where:\n",
    "- V = 12.0 ± 0.1 V (small error: ~0.8%)\n",
    "- R = 100 ± 1 Ω (small error: ~1%)\n",
    "\n",
    "**Your tasks:**\n",
    "- Find P_max = (V_max)²/R_min and P_min = (V_min)²/R_max\n",
    "- Compare with total differential prediction\n",
    "- Should linear approximation work well here?\n",
    "\n",
    "### Exercise 2: Power Calculation (Large Errors)  \n",
    "Same function P = V²/R but with larger uncertainties:\n",
    "- V = 12.0 ± 2.0 V (large error: ~17%)  \n",
    "- R = 100 ± 20 Ω (large error: ~20%)\n",
    "\n",
    "**Your tasks:**\n",
    "- Calculate actual bounds manually\n",
    "- Compare with total differential\n",
    "- How well does the linear approximation work now?\n",
    "\n",
    "### Exercise 3: Kinetic Energy\n",
    "For KE = ½mv² with:\n",
    "- m = 1.0 ± 0.1 kg\n",
    "- v = 10.0 ± 2.0 m/s  \n",
    "\n",
    "**Your tasks:**  \n",
    "- Find KE_max and KE_min by direct calculation\n",
    "- Which variable contributes more to the error bounds?\n",
    "- Compare with total differential results\n",
    "\n",
    "**Key Learning Goals:**\n",
    "- 📐 **Small errors (< 5%)**: Linear approximation excellent\n",
    "- ⚠️ **Medium errors (5-15%)**: Reasonable but noticeable differences  \n",
    "- ❌ **Large errors (> 15%)**: Linear approximation unreliable\n",
    "- 🎯 **Always verify**: Compare manual calculation with total differential for important results"
   ]
  },
  {
   "cell_type": "code",
   "execution_count": 30,
   "metadata": {},
   "outputs": [
    {
     "name": "stdout",
     "output_type": "stream",
     "text": [
      "EXERCISE 1 TEMPLATE:\n",
      "=== POWER CALCULATION (SMALL ERRORS) ===\n",
      "Result = 1.440\n",
      "Total differential prediction: ±0.038 (worst-case)\n",
      "\n",
      "📝 STUDENT TASK: Calculate actual bounds manually\n",
      "1. Determine which combination of max/min values gives maximum result\n",
      "2. Determine which combination gives minimum result\n",
      "3. Compare with total differential prediction above\n",
      "4. Calculate % agreement between methods\n",
      "\n",
      "Variable ranges:\n",
      "V (volts): 12.0 ± 0.1 (0.8% relative error)\n",
      "R (ohms): 100 ± 1 (1.0% relative error)\n",
      "\n",
      "--------------------------------------------------\n",
      "\n",
      "============================================================\n",
      "Complete the exercises above by calculating bounds manually!\n",
      "Remember: Compare your manual results with the total differential prediction.\n"
     ]
    }
   ],
   "source": [
    "# Template for exercises with manual bounds calculation:\n",
    "def solve_exercise_with_bounds(variables, uncertainties, function, function_name, var_names):\n",
    "    \"\"\"Template function for student exercises with manual bounds comparison\"\"\"\n",
    "    Q = np.array(variables)\n",
    "    dQ = np.array(uncertainties)  \n",
    "    epsQ = 1e-6 * np.abs(Q) + 1e-12\n",
    "    \n",
    "    # Calculate using total differential\n",
    "    errors, derivatives, contributions = get_errors(Q, dQ, epsQ, function)\n",
    "    errors_rounded = [round_to_sig_figs(err, 2) for err in errors]\n",
    "    \n",
    "    print(f\"=== {function_name.upper()} ===\")\n",
    "    print(f\"Result = {function(Q):.3f}\")\n",
    "    print(f\"Total differential prediction: ±{errors_rounded[0]:.3f} (worst-case)\")\n",
    "    print()\n",
    "    \n",
    "    # For students to complete: manual bounds calculation\n",
    "    print(\"📝 STUDENT TASK: Calculate actual bounds manually\")\n",
    "    print(\"1. Determine which combination of max/min values gives maximum result\")\n",
    "    print(\"2. Determine which combination gives minimum result\") \n",
    "    print(\"3. Compare with total differential prediction above\")\n",
    "    print(\"4. Calculate % agreement between methods\")\n",
    "    print()\n",
    "    \n",
    "    # Display variable ranges for reference\n",
    "    print(\"Variable ranges:\")\n",
    "    for i, name in enumerate(var_names):\n",
    "        rel_error = (uncertainties[i] / abs(variables[i])) * 100\n",
    "        print(f\"{name}: {variables[i]} ± {uncertainties[i]} ({rel_error:.1f}% relative error)\")\n",
    "    \n",
    "    print(\"\\n\" + \"-\"*50)\n",
    "    \n",
    "    return errors, derivatives, contributions\n",
    "\n",
    "# Exercise 1 Template:\n",
    "print(\"EXERCISE 1 TEMPLATE:\")\n",
    "power_func = lambda Q: Q[0]**2 / Q[1]  # P = V²/R\n",
    "solve_exercise_with_bounds([12.0, 100], [0.1, 1], power_func, \n",
    "                          \"Power Calculation (Small Errors)\", [\"V (volts)\", \"R (ohms)\"])\n",
    "\n",
    "print(\"\\n\" + \"=\"*60)\n",
    "print(\"Complete the exercises above by calculating bounds manually!\")\n",
    "print(\"Remember: Compare your manual results with the total differential prediction.\")"
   ]
  }
 ],
 "metadata": {
  "kernelspec": {
   "display_name": "mp",
   "language": "python",
   "name": "python3"
  },
  "language_info": {
   "codemirror_mode": {
    "name": "ipython"
